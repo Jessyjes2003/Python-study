{
  "nbformat": 4,
  "nbformat_minor": 0,
  "metadata": {
    "colab": {
      "provenance": [],
      "authorship_tag": "ABX9TyM0NBoEiMLlYz7LCk8RNRsB",
      "include_colab_link": true
    },
    "kernelspec": {
      "name": "python3",
      "display_name": "Python 3"
    },
    "language_info": {
      "name": "python"
    }
  },
  "cells": [
    {
      "cell_type": "markdown",
      "metadata": {
        "id": "view-in-github",
        "colab_type": "text"
      },
      "source": [
        "<a href=\"https://colab.research.google.com/github/Jessyjes2003/Python-study/blob/Python_sampleprgms/Sample_Prgms.ipynb\" target=\"_parent\"><img src=\"https://colab.research.google.com/assets/colab-badge.svg\" alt=\"Open In Colab\"/></a>"
      ]
    },
    {
      "cell_type": "code",
      "execution_count": null,
      "metadata": {
        "colab": {
          "base_uri": "https://localhost:8080/"
        },
        "id": "j7hGNsBSznFk",
        "outputId": "c3806e65-7989-4629-ffb5-c4e4cfa135ff"
      },
      "outputs": [
        {
          "output_type": "stream",
          "name": "stdout",
          "text": [
            "Hello World\n"
          ]
        }
      ],
      "source": [
        "#Program to print Hello World\n",
        "print(\"Hello World\")"
      ]
    },
    {
      "cell_type": "code",
      "source": [
        "#Program to add two numbers\n",
        "a = int(input(\"Enter the first number : \"))\n",
        "b = int(input(\"Enter the second number : \"))\n",
        "s = a+b\n",
        "print(\"Sum is \"+str(s))"
      ],
      "metadata": {
        "colab": {
          "base_uri": "https://localhost:8080/"
        },
        "id": "lkDvQl05z7a2",
        "outputId": "bed8467f-a66a-474c-9e94-20dea7e543a1"
      },
      "execution_count": null,
      "outputs": [
        {
          "output_type": "stream",
          "name": "stdout",
          "text": [
            "Enter the first number : 0\n",
            "Enter the second number : 3\n",
            "Sum is 3\n"
          ]
        }
      ]
    },
    {
      "cell_type": "code",
      "source": [
        "#Program to calculate the square root\n",
        "import cmath\n",
        "num = int(input(\"Enter a number : \"))\n",
        "sr = cmath.sqrt(num)\n",
        "print(\"Square Root of the number given is \"+str(sr))"
      ],
      "metadata": {
        "colab": {
          "base_uri": "https://localhost:8080/"
        },
        "id": "wXvY5RhW0VW8",
        "outputId": "8ddf4d34-4d45-4697-c7c5-0375e0b412ff"
      },
      "execution_count": null,
      "outputs": [
        {
          "output_type": "stream",
          "name": "stdout",
          "text": [
            "Enter a number : 36\n",
            "Square Root of the number given is (6+0j)\n"
          ]
        }
      ]
    },
    {
      "cell_type": "code",
      "source": [
        "#Program to calculate the area of a triangle\n",
        "b = int(input(\"Enter the breadth : \"))\n",
        "h = int(input(\"Enter the height : \"))\n",
        "a = 0.5*b*h\n",
        "print(\"Area of the triangle : \"+str(int(a)))"
      ],
      "metadata": {
        "colab": {
          "base_uri": "https://localhost:8080/"
        },
        "id": "R96inFX50wsf",
        "outputId": "e05ace8a-c965-4279-d9f7-9664f3987187"
      },
      "execution_count": null,
      "outputs": [
        {
          "output_type": "stream",
          "name": "stdout",
          "text": [
            "Enter the breadth : 5\n",
            "Enter the height : 4\n",
            "Area of the triangle : 10\n"
          ]
        }
      ]
    },
    {
      "cell_type": "code",
      "source": [
        "#Program to find the roots of a quadratic equations\n",
        "import cmath\n",
        "print(\"Format of equation : ax^2 + bx + c\")\n",
        "a = int(input(\"Enter the value of 'a' : \"))\n",
        "b = int(input(\"Enter the value of 'b' : \"))\n",
        "c = int(input(\"Enter the value of 'c' : \"))\n",
        "rt = cmath.sqrt((b**2)-(4*a*c))\n",
        "rt1 = (-b + rt)/2*a\n",
        "rt2 = (-b - rt)/2*a\n",
        "print(\"Square roots are \"+str(rt1)+\" and \"+str(rt2))"
      ],
      "metadata": {
        "colab": {
          "base_uri": "https://localhost:8080/"
        },
        "id": "ia_b7mbn1iu-",
        "outputId": "260646e5-77c4-45d6-e454-ed7da9e3621b"
      },
      "execution_count": null,
      "outputs": [
        {
          "output_type": "stream",
          "name": "stdout",
          "text": [
            "Format of equation : ax^2 + bx + c\n",
            "Enter the value of 'a' : 2\n",
            "Enter the value of 'b' : 5\n",
            "Enter the value of 'c' : 2\n",
            "Square roots are (-2+0j) and (-8+0j)\n"
          ]
        }
      ]
    },
    {
      "cell_type": "code",
      "source": [
        "#Program to swap two numbers\n",
        "a = 10\n",
        "b = 6\n",
        "print(\"Numbers a : \"+str(a)+\" and b : \"+str(b))\n",
        "temp = a\n",
        "a = b\n",
        "b = temp\n",
        "print(\"Swapped a is \"+str(a)+\" and b is \"+str(b))"
      ],
      "metadata": {
        "colab": {
          "base_uri": "https://localhost:8080/"
        },
        "id": "6F3-kemg3xil",
        "outputId": "650fc501-42ab-41c5-f16b-6d728c3d9474"
      },
      "execution_count": null,
      "outputs": [
        {
          "output_type": "stream",
          "name": "stdout",
          "text": [
            "Numbers a : 10 and b : 6\n",
            "Swapped a is 6 and b is 10\n"
          ]
        }
      ]
    },
    {
      "cell_type": "code",
      "source": [
        "#Program to find a random number\n",
        "import random\n",
        "print(random.randrange(1,10))"
      ],
      "metadata": {
        "colab": {
          "base_uri": "https://localhost:8080/"
        },
        "id": "RZjkJmR56UTF",
        "outputId": "e3c87b11-c852-476c-d9cf-01813bfcb89a"
      },
      "execution_count": null,
      "outputs": [
        {
          "output_type": "stream",
          "name": "stdout",
          "text": [
            "2\n"
          ]
        }
      ]
    },
    {
      "cell_type": "code",
      "source": [
        "#Program to covert km to miles\n",
        "km = int(input(\"Enter the Value in kms : \"))\n",
        "m = km/1.609\n",
        "print(\"The value in miles : \"+str(m))"
      ],
      "metadata": {
        "colab": {
          "base_uri": "https://localhost:8080/"
        },
        "id": "G6swyfI-6uqa",
        "outputId": "928ca31f-89fa-46ba-a96e-6fc1d878c1c6"
      },
      "execution_count": null,
      "outputs": [
        {
          "output_type": "stream",
          "name": "stdout",
          "text": [
            "Enter the Value in kms : 2\n",
            "The value in miles : 1.2430080795525171\n"
          ]
        }
      ]
    },
    {
      "cell_type": "code",
      "source": [
        "#Program to covert celsius to farenhit\n",
        "c = int(input(\"Enter the celsius value : \"))\n",
        "f = (c*(9/5))+32\n",
        "print(\"Value in Farenhit : \"+str(f))"
      ],
      "metadata": {
        "colab": {
          "base_uri": "https://localhost:8080/"
        },
        "id": "Nh_Z-rr9719e",
        "outputId": "a2f26aee-2132-4fe4-cf91-b4c2680e78d7"
      },
      "execution_count": null,
      "outputs": [
        {
          "output_type": "stream",
          "name": "stdout",
          "text": [
            "Enter the celsius value : 0\n",
            "Value in Farenhit : 32.0\n"
          ]
        }
      ]
    },
    {
      "cell_type": "code",
      "source": [
        "#Program to check the number is positive,negative or zero\n",
        "num = int(input(\"Enter a number : \"))\n",
        "if num>0:\n",
        "  print(\"Positive\")\n",
        "elif num<0:\n",
        "  print(\"Negative\")\n",
        "else:\n",
        "  print(\"Zero\")"
      ],
      "metadata": {
        "colab": {
          "base_uri": "https://localhost:8080/"
        },
        "id": "ODXiExYc84f1",
        "outputId": "774b26ef-3f96-459d-9619-e1954d33342b"
      },
      "execution_count": null,
      "outputs": [
        {
          "output_type": "stream",
          "name": "stdout",
          "text": [
            "Enter a number : -1\n",
            "Negative\n"
          ]
        }
      ]
    },
    {
      "cell_type": "code",
      "source": [
        "#Program to check odd or even\n",
        "num = int(input(\"Enter a number : \"))\n",
        "if num%2==0:\n",
        "  print(\"Even\")\n",
        "else:\n",
        "  print(\"Odd\")"
      ],
      "metadata": {
        "colab": {
          "base_uri": "https://localhost:8080/"
        },
        "id": "gT7RxqoB9XhH",
        "outputId": "72e10818-632a-4413-f59a-ca18770f5820"
      },
      "execution_count": null,
      "outputs": [
        {
          "output_type": "stream",
          "name": "stdout",
          "text": [
            "Enter a number : 23\n",
            "Odd\n"
          ]
        }
      ]
    },
    {
      "cell_type": "code",
      "source": [
        "#Program to check the leap year\n",
        "yr = int(input(\"Enter a year : \"))\n",
        "if (yr%4==0 and yr%100!=0) or yr%400==0:\n",
        "  print(\"Leap Yr\")\n",
        "else:\n",
        "  print(\"Not leap yr\")"
      ],
      "metadata": {
        "colab": {
          "base_uri": "https://localhost:8080/"
        },
        "id": "TnoSDtcr9rJ3",
        "outputId": "ad723c23-c4d5-43c8-be73-de6bb82a2e32"
      },
      "execution_count": null,
      "outputs": [
        {
          "output_type": "stream",
          "name": "stdout",
          "text": [
            "Enter a year : 2024\n",
            "Leap Yr\n"
          ]
        }
      ]
    },
    {
      "cell_type": "code",
      "source": [
        "#Program to find the largest of 3 numbers\n",
        "a = int(input(\"Enter the first number : \"))\n",
        "b = int(input(\"Enter the second number : \"))\n",
        "c = int(input(\"Enter the third number : \"))\n",
        "if a>b and a>c :\n",
        "  print(\"A Largest\")\n",
        "elif b>c:\n",
        "  print(\"B largest\")\n",
        "else:\n",
        "  print(\"C largest\")"
      ],
      "metadata": {
        "colab": {
          "base_uri": "https://localhost:8080/"
        },
        "id": "BpEqB61T-6CU",
        "outputId": "28d0bf2a-1df9-4f93-fe75-efa7c2021e14"
      },
      "execution_count": null,
      "outputs": [
        {
          "output_type": "stream",
          "name": "stdout",
          "text": [
            "Enter the first number : 5\n",
            "Enter the second number : 9\n",
            "Enter the third number : 3\n",
            "B largest\n"
          ]
        }
      ]
    },
    {
      "cell_type": "code",
      "source": [
        "#Program to check a number is prime or not\n",
        "num = int(input(\"Enter a number : \"))\n",
        "if num>1:\n",
        "  for i in range(2,num):\n",
        "    if num%i ==0:\n",
        "      print(\"Not Prime\")\n",
        "      break\n",
        "  else :\n",
        "      print(\"Prime\")\n",
        "elif num ==1 :\n",
        "  print(\"Neither Prime Nor Composite\")\n",
        "else:\n",
        "  print(\"Negative number\")"
      ],
      "metadata": {
        "colab": {
          "base_uri": "https://localhost:8080/"
        },
        "id": "3fyotNqU_b26",
        "outputId": "e382d6b6-08a0-40ed-92fb-39ace5f1fcfa"
      },
      "execution_count": 6,
      "outputs": [
        {
          "output_type": "stream",
          "name": "stdout",
          "text": [
            "Enter a number : 23\n",
            "Prime\n"
          ]
        }
      ]
    },
    {
      "cell_type": "code",
      "source": [
        "#Program to list the prime numbers between an interval\n",
        "lu = int(input(\"Enter a upper limit : \"))\n",
        "ll = int(input(\"Enter a lower limit : \"))\n",
        "for i in range(ll,lu+1):\n",
        "  if i>1:\n",
        "    for j in range(2,i):\n",
        "      if i%j == 0:\n",
        "        break\n",
        "    else:\n",
        "      print(i)"
      ],
      "metadata": {
        "colab": {
          "base_uri": "https://localhost:8080/"
        },
        "id": "c9f0yaYSBjut",
        "outputId": "f4be81d3-b4f2-4eb9-90ac-7f0cb14bc66f"
      },
      "execution_count": null,
      "outputs": [
        {
          "output_type": "stream",
          "name": "stdout",
          "text": [
            "Enter a upper limit : 10\n",
            "Enter a lower limit : 1\n",
            "2\n",
            "3\n",
            "5\n",
            "7\n"
          ]
        }
      ]
    }
  ]
}