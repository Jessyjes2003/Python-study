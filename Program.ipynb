{
  "nbformat": 4,
  "nbformat_minor": 0,
  "metadata": {
    "colab": {
      "provenance": [],
      "authorship_tag": "ABX9TyPFe/tUX4RySDk4cl/VCdOV",
      "include_colab_link": true
    },
    "kernelspec": {
      "name": "python3",
      "display_name": "Python 3"
    },
    "language_info": {
      "name": "python"
    }
  },
  "cells": [
    {
      "cell_type": "markdown",
      "metadata": {
        "id": "view-in-github",
        "colab_type": "text"
      },
      "source": [
        "<a href=\"https://colab.research.google.com/github/Jessyjes2003/Python-study/blob/main/Program.ipynb\" target=\"_parent\"><img src=\"https://colab.research.google.com/assets/colab-badge.svg\" alt=\"Open In Colab\"/></a>"
      ]
    },
    {
      "cell_type": "code",
      "execution_count": null,
      "metadata": {
        "colab": {
          "base_uri": "https://localhost:8080/"
        },
        "id": "wq7jFxPX3ztU",
        "outputId": "8b66d232-4ac1-42de-9fb5-71bebdec9837"
      },
      "outputs": [
        {
          "output_type": "stream",
          "name": "stdout",
          "text": [
            "Orange Cherry\n"
          ]
        }
      ],
      "source": [
        "x = \"Orange\"\n",
        "y = \"Cherry\"\n",
        "print(x,y)"
      ]
    },
    {
      "cell_type": "code",
      "source": [
        "x = \"Orange\"\n",
        "y = \"Cherry\"\n",
        "print(x+y)"
      ],
      "metadata": {
        "colab": {
          "base_uri": "https://localhost:8080/"
        },
        "id": "sbnfZLxj-ZCr",
        "outputId": "556bbcd0-fceb-489d-8f9c-fa531420be95"
      },
      "execution_count": null,
      "outputs": [
        {
          "output_type": "stream",
          "name": "stdout",
          "text": [
            "OrangeCherry\n"
          ]
        }
      ]
    },
    {
      "cell_type": "code",
      "source": [
        "x,y,z = \"Orange\",\"Cherry\",\"Apple\"\n",
        "print(x)\n",
        "print(y)\n",
        "print(z)"
      ],
      "metadata": {
        "colab": {
          "base_uri": "https://localhost:8080/"
        },
        "id": "4YVPklJE-fZY",
        "outputId": "c095a115-f167-4a4d-832b-5cf93f08e190"
      },
      "execution_count": null,
      "outputs": [
        {
          "output_type": "stream",
          "name": "stdout",
          "text": [
            "Orange\n",
            "Cherry\n",
            "Apple\n"
          ]
        }
      ]
    },
    {
      "cell_type": "code",
      "source": [
        "x=y=z=\"Cherry\"\n",
        "print(x,y,z)"
      ],
      "metadata": {
        "colab": {
          "base_uri": "https://localhost:8080/"
        },
        "id": "4Nh9pAM2-2mk",
        "outputId": "7a45479c-1acc-4064-c85a-f8ce6306fc76"
      },
      "execution_count": null,
      "outputs": [
        {
          "output_type": "stream",
          "name": "stdout",
          "text": [
            "Cherry Cherry Cherry\n"
          ]
        }
      ]
    },
    {
      "cell_type": "code",
      "source": [
        "x=5\n",
        "y=8\n",
        "def addi():\n",
        "  print(x+y)\n",
        "addi()"
      ],
      "metadata": {
        "colab": {
          "base_uri": "https://localhost:8080/"
        },
        "id": "0cn2KE42_Lm4",
        "outputId": "07a8d19f-7557-457b-ad1d-b923bd3db979"
      },
      "execution_count": null,
      "outputs": [
        {
          "output_type": "stream",
          "name": "stdout",
          "text": [
            "13\n"
          ]
        }
      ]
    },
    {
      "cell_type": "code",
      "source": [
        "x=\"apple\"\n",
        "y=\"orange\"\n",
        "def fruits():\n",
        "  print(x,y)\n",
        "fruits()"
      ],
      "metadata": {
        "colab": {
          "base_uri": "https://localhost:8080/"
        },
        "id": "pc66nyHY_dXq",
        "outputId": "56f26fce-2a88-4c4b-e7ed-75ed42ab5651"
      },
      "execution_count": null,
      "outputs": [
        {
          "output_type": "stream",
          "name": "stdout",
          "text": [
            "apple orange\n"
          ]
        }
      ]
    },
    {
      "cell_type": "code",
      "source": [
        "x=2j\n",
        "print(type(x))"
      ],
      "metadata": {
        "colab": {
          "base_uri": "https://localhost:8080/"
        },
        "id": "ihagjvGMAC11",
        "outputId": "9bdf38e2-cbf4-4aaa-d544-fd3ac1e4681d"
      },
      "execution_count": null,
      "outputs": [
        {
          "output_type": "stream",
          "name": "stdout",
          "text": [
            "<class 'complex'>\n"
          ]
        }
      ]
    },
    {
      "cell_type": "code",
      "source": [
        "x=2\n",
        "print(complex(x))"
      ],
      "metadata": {
        "colab": {
          "base_uri": "https://localhost:8080/"
        },
        "id": "Xl_lEW8YESBe",
        "outputId": "c7251eb7-cafc-4c1f-bf9a-678c196a85ff"
      },
      "execution_count": null,
      "outputs": [
        {
          "output_type": "stream",
          "name": "stdout",
          "text": [
            "(2+0j)\n"
          ]
        }
      ]
    },
    {
      "cell_type": "code",
      "source": [
        "import random\n",
        "print(random.randrange(1,10))"
      ],
      "metadata": {
        "colab": {
          "base_uri": "https://localhost:8080/"
        },
        "id": "n98r8ORuEe5G",
        "outputId": "ffb8ad3f-aa9f-4da4-ee58-2fdb3dee5048"
      },
      "execution_count": null,
      "outputs": [
        {
          "output_type": "stream",
          "name": "stdout",
          "text": [
            "5\n"
          ]
        }
      ]
    },
    {
      "cell_type": "code",
      "source": [
        "x=\"Cherry\"\n",
        "print(x[3])"
      ],
      "metadata": {
        "colab": {
          "base_uri": "https://localhost:8080/"
        },
        "id": "71niYHIXEq8Q",
        "outputId": "64a89cea-6657-430b-a264-654d2146f826"
      },
      "execution_count": null,
      "outputs": [
        {
          "output_type": "stream",
          "name": "stdout",
          "text": [
            "r\n"
          ]
        }
      ]
    },
    {
      "cell_type": "code",
      "source": [
        "a=\"Cherry\"\n",
        "print(len(a))\n",
        "for x in a:\n",
        "  print(x)"
      ],
      "metadata": {
        "colab": {
          "base_uri": "https://localhost:8080/"
        },
        "id": "nhy8-iUhE1iK",
        "outputId": "62d6e796-df35-4ad0-995d-c763f99ead50"
      },
      "execution_count": null,
      "outputs": [
        {
          "output_type": "stream",
          "name": "stdout",
          "text": [
            "6\n",
            "C\n",
            "h\n",
            "e\n",
            "r\n",
            "r\n",
            "y\n"
          ]
        }
      ]
    },
    {
      "cell_type": "code",
      "source": [
        "x=[\"Apple\",\"Orange\",\"Cherry\"]\n",
        "x.append(\"Grapes\")\n",
        "print(x)"
      ],
      "metadata": {
        "colab": {
          "base_uri": "https://localhost:8080/"
        },
        "id": "ALQSsj5bFNYu",
        "outputId": "18b37bc0-d1cb-482b-c0ab-2c2f30995728"
      },
      "execution_count": null,
      "outputs": [
        {
          "output_type": "stream",
          "name": "stdout",
          "text": [
            "['Apple', 'Orange', 'Cherry', 'Grapes']\n"
          ]
        }
      ]
    },
    {
      "cell_type": "code",
      "source": [
        "a = \"Python is so good\"\n",
        "print(\"so\" in a)"
      ],
      "metadata": {
        "colab": {
          "base_uri": "https://localhost:8080/"
        },
        "id": "Sjp5Z336FgoM",
        "outputId": "815f003a-8c2f-4b18-a011-1f870973f5dd"
      },
      "execution_count": null,
      "outputs": [
        {
          "output_type": "stream",
          "name": "stdout",
          "text": [
            "True\n"
          ]
        }
      ]
    },
    {
      "cell_type": "code",
      "source": [
        "a=\"Cherry\"\n",
        "print(a.replace(\"C\",\"J\"))"
      ],
      "metadata": {
        "colab": {
          "base_uri": "https://localhost:8080/"
        },
        "id": "d0Gr2ZNcFw6t",
        "outputId": "b6545d28-c889-4790-ea41-cd79318cf197"
      },
      "execution_count": null,
      "outputs": [
        {
          "output_type": "stream",
          "name": "stdout",
          "text": [
            "Jherry\n"
          ]
        }
      ]
    },
    {
      "cell_type": "code",
      "source": [
        "a=\"Hello World\"\n",
        "print(a.split(\" \"))"
      ],
      "metadata": {
        "colab": {
          "base_uri": "https://localhost:8080/"
        },
        "id": "YYsTbcr2GIcR",
        "outputId": "2ae00f86-0340-41f1-a664-32231a895fb5"
      },
      "execution_count": null,
      "outputs": [
        {
          "output_type": "stream",
          "name": "stdout",
          "text": [
            "['Hello', 'World']\n"
          ]
        }
      ]
    },
    {
      "cell_type": "code",
      "source": [
        "age=20\n",
        "a=\"I am {} yrs young\"\n",
        "print(a.format(age))"
      ],
      "metadata": {
        "colab": {
          "base_uri": "https://localhost:8080/"
        },
        "id": "oztHX7o9GaxB",
        "outputId": "b69a0bdb-4b23-4f6c-e919-5c9725429b80"
      },
      "execution_count": null,
      "outputs": [
        {
          "output_type": "stream",
          "name": "stdout",
          "text": [
            "I am 20 yrs young\n"
          ]
        }
      ]
    },
    {
      "cell_type": "code",
      "source": [
        "a=\"Cherry\"\n",
        "print(a.replace(\"Ch\",\"J\"))"
      ],
      "metadata": {
        "colab": {
          "base_uri": "https://localhost:8080/"
        },
        "id": "fZ3mQZuMG6bO",
        "outputId": "4dcb78c0-8862-496e-bb6a-968d59b7abd2"
      },
      "execution_count": null,
      "outputs": [
        {
          "output_type": "stream",
          "name": "stdout",
          "text": [
            "Jerry\n"
          ]
        }
      ]
    },
    {
      "cell_type": "code",
      "source": [
        "num=23\n",
        "txt=\"there are {} students in class\"\n",
        "print(txt.format(num))"
      ],
      "metadata": {
        "colab": {
          "base_uri": "https://localhost:8080/"
        },
        "id": "bdqK6JynHOep",
        "outputId": "6cd8ee89-f965-41dc-ac88-67bc94b46e4a"
      },
      "execution_count": null,
      "outputs": [
        {
          "output_type": "stream",
          "name": "stdout",
          "text": [
            "there are 23 students in class\n"
          ]
        }
      ]
    },
    {
      "cell_type": "code",
      "source": [
        "good=\"bad\"\n",
        "msg=\"aiswarya is a {} girl\"\n",
        "print(msg.format(good))"
      ],
      "metadata": {
        "colab": {
          "base_uri": "https://localhost:8080/"
        },
        "id": "d9NmWhXcJBK1",
        "outputId": "9361079e-861d-4da5-b6d3-8273706fecb2"
      },
      "execution_count": null,
      "outputs": [
        {
          "output_type": "stream",
          "name": "stdout",
          "text": [
            "aiswarya is a bad girl\n"
          ]
        }
      ]
    },
    {
      "cell_type": "code",
      "source": [
        "a=\"jessy     \"\n",
        "print(a.strip())"
      ],
      "metadata": {
        "colab": {
          "base_uri": "https://localhost:8080/"
        },
        "id": "flsWMbiiJYo7",
        "outputId": "3fb55e70-b886-444d-bdef-79e7985cc5c2"
      },
      "execution_count": null,
      "outputs": [
        {
          "output_type": "stream",
          "name": "stdout",
          "text": [
            "jessy\n"
          ]
        }
      ]
    },
    {
      "cell_type": "code",
      "source": [
        "name=\"AYSHA\"\n",
        "print(name.capitalize())"
      ],
      "metadata": {
        "colab": {
          "base_uri": "https://localhost:8080/"
        },
        "id": "V8UF1KLqKA_d",
        "outputId": "6e6d9f6e-aad3-4074-d888-07a0ead147d2"
      },
      "execution_count": null,
      "outputs": [
        {
          "output_type": "stream",
          "name": "stdout",
          "text": [
            "Aysha\n"
          ]
        }
      ]
    },
    {
      "cell_type": "code",
      "source": [
        "name=\"APPLE\"\n",
        "print(name.count(\"A\"))\n",
        "print(len(name))\n",
        "print(name.capitalize())\n",
        "for x in name.capitalize():\n",
        "  print(x)"
      ],
      "metadata": {
        "colab": {
          "base_uri": "https://localhost:8080/"
        },
        "id": "9gacTb6gLfLp",
        "outputId": "c06ca556-13ce-4c95-a1e7-188e86f33d96"
      },
      "execution_count": null,
      "outputs": [
        {
          "output_type": "stream",
          "name": "stdout",
          "text": [
            "1\n",
            "5\n",
            "Apple\n",
            "A\n",
            "p\n",
            "p\n",
            "l\n",
            "e\n"
          ]
        }
      ]
    },
    {
      "cell_type": "code",
      "source": [
        "a =\"Apple,Orange,\\Cherry\"\n",
        "print(a)"
      ],
      "metadata": {
        "colab": {
          "base_uri": "https://localhost:8080/"
        },
        "id": "XQdTrSQTN00_",
        "outputId": "1e16975d-0bb8-4128-847e-43bf2e14962d"
      },
      "execution_count": null,
      "outputs": [
        {
          "output_type": "stream",
          "name": "stdout",
          "text": [
            "Apple,Orange,\\Cherry\n"
          ]
        }
      ]
    },
    {
      "cell_type": "code",
      "source": [
        "x = 10\n",
        "y = 2\n",
        "print(x/y)"
      ],
      "metadata": {
        "id": "5tMIrDcWPNW0",
        "colab": {
          "base_uri": "https://localhost:8080/"
        },
        "outputId": "0f789784-09f1-47e1-92ca-21b4708f62d7"
      },
      "execution_count": null,
      "outputs": [
        {
          "output_type": "stream",
          "name": "stdout",
          "text": [
            "5.0\n"
          ]
        }
      ]
    },
    {
      "cell_type": "code",
      "source": [
        "x = \"Hi there hello\"\n",
        "y = \"Hi\"\n",
        "print(y in x)"
      ],
      "metadata": {
        "colab": {
          "base_uri": "https://localhost:8080/"
        },
        "id": "scqtimkPnDW2",
        "outputId": "ebcb873c-bcda-41ce-a502-64bbd228ef7d"
      },
      "execution_count": null,
      "outputs": [
        {
          "output_type": "stream",
          "name": "stdout",
          "text": [
            "True\n"
          ]
        }
      ]
    },
    {
      "cell_type": "code",
      "source": [
        "x = \"Hi there hello\"\n",
        "y = \"Hi\"\n",
        "print(y is x)"
      ],
      "metadata": {
        "colab": {
          "base_uri": "https://localhost:8080/"
        },
        "id": "2lMnqi13n7bm",
        "outputId": "1da954d9-d3da-47ef-f7f7-7ef12592283e"
      },
      "execution_count": null,
      "outputs": [
        {
          "output_type": "stream",
          "name": "stdout",
          "text": [
            "False\n"
          ]
        }
      ]
    },
    {
      "cell_type": "code",
      "source": [
        "li = [\"Monday\",\"Tuesday\",\"Wednesday\",\"Friday\"]\n",
        "li.insert(3,\"Thursday\")\n",
        "print(li)"
      ],
      "metadata": {
        "colab": {
          "base_uri": "https://localhost:8080/"
        },
        "id": "fHuDGGFloCwr",
        "outputId": "e71b2525-1284-44ca-8285-0085235d493e"
      },
      "execution_count": null,
      "outputs": [
        {
          "output_type": "stream",
          "name": "stdout",
          "text": [
            "['Monday', 'Tuesday', 'Wednesday', 'Thursday', 'Friday']\n"
          ]
        }
      ]
    },
    {
      "cell_type": "code",
      "source": [
        "li = [\"Monday\",\"Tuesday\",\"Wednesday\"]\n",
        "li2 = [\"Thursday\",\"Friday\"]\n",
        "li.extend(li2)\n",
        "print(li)"
      ],
      "metadata": {
        "colab": {
          "base_uri": "https://localhost:8080/"
        },
        "id": "g4a_bE8Bq7qg",
        "outputId": "a9d1a7ed-6cb3-4ed3-8c62-2cd148f3d792"
      },
      "execution_count": null,
      "outputs": [
        {
          "output_type": "stream",
          "name": "stdout",
          "text": [
            "['Monday', 'Tuesday', 'Wednesday', 'Thursday', 'Friday']\n"
          ]
        }
      ]
    },
    {
      "cell_type": "code",
      "source": [
        "li = [\"Monday\",\"Tuesday\",\"Wednesday\"]\n",
        "li2 = [\"Thursday\",\"Friday\"]\n",
        "li.extend(li2)\n",
        "li.clear()\n",
        "print(li)"
      ],
      "metadata": {
        "colab": {
          "base_uri": "https://localhost:8080/"
        },
        "id": "joPHpSY8rZd7",
        "outputId": "0e7150c7-6e22-4eb8-af84-d993ba96754c"
      },
      "execution_count": null,
      "outputs": [
        {
          "output_type": "stream",
          "name": "stdout",
          "text": [
            "[]\n"
          ]
        }
      ]
    },
    {
      "cell_type": "code",
      "source": [
        "#by aysha\n",
        "anime=[\"naruto\",\"sasuke\",\"kakashi\"]\n",
        "print(anime)\n",
        "anime.append(\"jiraya\")\n",
        "print(anime)\n",
        "anime.pop()\n",
        "print(anime)\n",
        "anime.pop(1)\n",
        "print(anime)\n",
        "anime.remove(\"naruto\")\n",
        "print(anime)\n",
        "anime.clear()\n",
        "print(anime)"
      ],
      "metadata": {
        "colab": {
          "base_uri": "https://localhost:8080/"
        },
        "id": "BGfhEwh7u2pt",
        "outputId": "0aee8d30-e729-4e4c-8b64-4b4c097ec113"
      },
      "execution_count": null,
      "outputs": [
        {
          "output_type": "stream",
          "name": "stdout",
          "text": [
            "['naruto', 'sasuke', 'kakashi']\n",
            "['naruto', 'sasuke', 'kakashi', 'jiraya']\n",
            "['naruto', 'sasuke', 'kakashi']\n",
            "['naruto', 'kakashi']\n",
            "['kakashi']\n",
            "[]\n"
          ]
        }
      ]
    },
    {
      "cell_type": "code",
      "source": [
        "bts = [\"Suga\",\"Jin\",\"Jungkook\",\"Kim\",\"Jimin\"]\n",
        "bts.sort()\n",
        "print(bts)"
      ],
      "metadata": {
        "colab": {
          "base_uri": "https://localhost:8080/"
        },
        "id": "enkZtsETwMoE",
        "outputId": "baf7421c-4051-4c1c-f264-dbea80a29c97"
      },
      "execution_count": null,
      "outputs": [
        {
          "output_type": "stream",
          "name": "stdout",
          "text": [
            "['Jimin', 'Jin', 'Jungkook', 'Kim', 'Suga']\n"
          ]
        }
      ]
    },
    {
      "cell_type": "code",
      "source": [
        "bts.sort(reverse = True)\n",
        "print(bts)"
      ],
      "metadata": {
        "colab": {
          "base_uri": "https://localhost:8080/"
        },
        "id": "N5df0vOC1MeM",
        "outputId": "737845c8-1aa6-4968-9025-565d7e4c0ad1"
      },
      "execution_count": null,
      "outputs": [
        {
          "output_type": "stream",
          "name": "stdout",
          "text": [
            "['Suga', 'Kim', 'Jungkook', 'Jin', 'Jimin']\n"
          ]
        }
      ]
    },
    {
      "cell_type": "code",
      "source": [
        "num = [26,7,50]\n",
        "num.sort()\n",
        "print(num)"
      ],
      "metadata": {
        "colab": {
          "base_uri": "https://localhost:8080/"
        },
        "id": "nMOavSZ31Ypz",
        "outputId": "40805b7a-cdea-4fb5-ebd8-7360f097f7d7"
      },
      "execution_count": null,
      "outputs": [
        {
          "output_type": "stream",
          "name": "stdout",
          "text": [
            "[7, 26, 50]\n"
          ]
        }
      ]
    },
    {
      "cell_type": "code",
      "source": [
        "num.reverse()\n",
        "print(num)"
      ],
      "metadata": {
        "colab": {
          "base_uri": "https://localhost:8080/"
        },
        "id": "3ZWh03Ha1l1n",
        "outputId": "03aecbcc-d3da-4520-dffc-464ec7c09690"
      },
      "execution_count": null,
      "outputs": [
        {
          "output_type": "stream",
          "name": "stdout",
          "text": [
            "[50, 26, 7]\n"
          ]
        }
      ]
    },
    {
      "cell_type": "code",
      "source": [
        "mybts = bts.copy()\n",
        "print(mybts)"
      ],
      "metadata": {
        "colab": {
          "base_uri": "https://localhost:8080/"
        },
        "id": "goavm2tX12qH",
        "outputId": "3bd75fe9-b803-4f60-8386-121015064047"
      },
      "execution_count": null,
      "outputs": [
        {
          "output_type": "stream",
          "name": "stdout",
          "text": [
            "['Suga', 'Kim', 'Jungkook', 'Jin', 'Jimin']\n"
          ]
        }
      ]
    },
    {
      "cell_type": "code",
      "source": [
        "mybtss=list(bts)\n",
        "print(mybtss)"
      ],
      "metadata": {
        "colab": {
          "base_uri": "https://localhost:8080/"
        },
        "id": "bUwnGuBJ2Ox7",
        "outputId": "c7509a5d-89a6-4111-9a13-c5a8a8f06d34"
      },
      "execution_count": null,
      "outputs": [
        {
          "output_type": "stream",
          "name": "stdout",
          "text": [
            "['Suga', 'Kim', 'Jungkook', 'Jin', 'Jimin']\n"
          ]
        }
      ]
    },
    {
      "cell_type": "code",
      "source": [
        "tup = (\"Cat\",\"Dog\",\"Rabbit\",\"Lion\")\n",
        "print(type(tup))"
      ],
      "metadata": {
        "colab": {
          "base_uri": "https://localhost:8080/"
        },
        "id": "x2ccOJVm8fy7",
        "outputId": "08cc4ba7-60fd-43a2-b7ec-cf6374122399"
      },
      "execution_count": 10,
      "outputs": [
        {
          "output_type": "stream",
          "name": "stdout",
          "text": [
            "<class 'tuple'>\n"
          ]
        }
      ]
    },
    {
      "cell_type": "code",
      "source": [
        "print(len(tup))\n",
        "th = tuple((\"Cherry\",\"Magic\"))\n",
        "print(th)\n",
        "print(tup[1])\n",
        "print(tup[-1])"
      ],
      "metadata": {
        "colab": {
          "base_uri": "https://localhost:8080/"
        },
        "id": "tAGizAmV9Dcs",
        "outputId": "b027fd50-92ef-4b8d-9ca4-1d171d57f5fd"
      },
      "execution_count": 11,
      "outputs": [
        {
          "output_type": "stream",
          "name": "stdout",
          "text": [
            "4\n",
            "('Cherry', 'Magic')\n",
            "Dog\n",
            "Lion\n"
          ]
        }
      ]
    },
    {
      "cell_type": "code",
      "source": [
        "print(tup[-3:])"
      ],
      "metadata": {
        "colab": {
          "base_uri": "https://localhost:8080/"
        },
        "id": "vqLZEP4o-Ba-",
        "outputId": "e51ea8a6-b52d-4676-f313-ad792d4261c7"
      },
      "execution_count": 6,
      "outputs": [
        {
          "output_type": "stream",
          "name": "stdout",
          "text": [
            "('Dog', 'Rabbit', 'Lion')\n"
          ]
        }
      ]
    },
    {
      "cell_type": "code",
      "source": [
        "if \"Lion\" in tup:\n",
        "  print(\"I saw Lion.....!!!!\")"
      ],
      "metadata": {
        "colab": {
          "base_uri": "https://localhost:8080/"
        },
        "id": "CVxwu-1n_C2Z",
        "outputId": "9b7b60da-c1fe-4862-acaa-2b51e6fcd01e"
      },
      "execution_count": 7,
      "outputs": [
        {
          "output_type": "stream",
          "name": "stdout",
          "text": [
            "I saw Lion.....!!!!\n"
          ]
        }
      ]
    },
    {
      "cell_type": "code",
      "source": [
        "li3 = list(tup)\n",
        "print(li3)"
      ],
      "metadata": {
        "colab": {
          "base_uri": "https://localhost:8080/"
        },
        "id": "BCkHVQOQ_yO-",
        "outputId": "e80117af-1b5d-46b1-dde8-24ef7615d507"
      },
      "execution_count": 12,
      "outputs": [
        {
          "output_type": "stream",
          "name": "stdout",
          "text": [
            "['Cat', 'Dog', 'Rabbit', 'Lion']\n"
          ]
        }
      ]
    },
    {
      "cell_type": "code",
      "source": [
        "li3.insert(2,\"Tortoise\")\n",
        "tup = tuple(li3)\n",
        "print(tup)"
      ],
      "metadata": {
        "colab": {
          "base_uri": "https://localhost:8080/"
        },
        "id": "4aqmjDrP_9aj",
        "outputId": "487cc6af-85a2-4b42-e410-0f0c3d5dc36d"
      },
      "execution_count": 13,
      "outputs": [
        {
          "output_type": "stream",
          "name": "stdout",
          "text": [
            "('Cat', 'Dog', 'Tortoise', 'Rabbit', 'Lion')\n"
          ]
        }
      ]
    },
    {
      "cell_type": "code",
      "source": [
        "li3.remove(\"Rabbit\")\n",
        "tup = tuple(li3)\n",
        "print(tup)"
      ],
      "metadata": {
        "colab": {
          "base_uri": "https://localhost:8080/"
        },
        "id": "HEbKJn1LAO_h",
        "outputId": "e5f7a408-bb9d-4a8d-a627-ccfde94f0912"
      },
      "execution_count": 15,
      "outputs": [
        {
          "output_type": "stream",
          "name": "stdout",
          "text": [
            "('Cat', 'Dog', 'Tortoise', 'Lion')\n"
          ]
        }
      ]
    },
    {
      "cell_type": "code",
      "source": [
        "(white,brown,green,gold) = tup\n",
        "print(white)\n",
        "print(brown)\n",
        "print(green)\n",
        "print(gold)"
      ],
      "metadata": {
        "colab": {
          "base_uri": "https://localhost:8080/"
        },
        "id": "IjSxxDyFAkjK",
        "outputId": "aa6a35c1-cf86-421d-b9bf-39611e92dd88"
      },
      "execution_count": 16,
      "outputs": [
        {
          "output_type": "stream",
          "name": "stdout",
          "text": [
            "Cat\n",
            "Dog\n",
            "Tortoise\n",
            "Lion\n"
          ]
        }
      ]
    },
    {
      "cell_type": "code",
      "source": [
        "for x in tup:\n",
        "  print(x)\n",
        "for i in range(len(tup)):\n",
        "  print(i)"
      ],
      "metadata": {
        "colab": {
          "base_uri": "https://localhost:8080/"
        },
        "id": "2mf30thVBDG9",
        "outputId": "6ae02ce3-85d6-4b70-d108-5f746d1ac290"
      },
      "execution_count": 15,
      "outputs": [
        {
          "output_type": "stream",
          "name": "stdout",
          "text": [
            "Cat\n",
            "Dog\n",
            "Tortoise\n",
            "Lion\n",
            "0\n",
            "1\n",
            "2\n",
            "3\n"
          ]
        }
      ]
    },
    {
      "cell_type": "code",
      "source": [
        "i=0\n",
        "while i<len(tup):\n",
        "  print(tup[i])\n",
        "  i+=1"
      ],
      "metadata": {
        "colab": {
          "base_uri": "https://localhost:8080/"
        },
        "id": "utJJlBE-BiK-",
        "outputId": "52a39e48-99dd-47e6-e9c5-0fcae33cafe0"
      },
      "execution_count": 16,
      "outputs": [
        {
          "output_type": "stream",
          "name": "stdout",
          "text": [
            "Cat\n",
            "Dog\n",
            "Tortoise\n",
            "Lion\n"
          ]
        }
      ]
    },
    {
      "cell_type": "code",
      "source": [
        "tup1 = tup*2\n",
        "print(tup1)"
      ],
      "metadata": {
        "colab": {
          "base_uri": "https://localhost:8080/"
        },
        "id": "g2qZJSHmCHnD",
        "outputId": "da9fca59-ec74-41b5-e618-cc84752a23e3"
      },
      "execution_count": 17,
      "outputs": [
        {
          "output_type": "stream",
          "name": "stdout",
          "text": [
            "('Cat', 'Dog', 'Tortoise', 'Lion', 'Cat', 'Dog', 'Tortoise', 'Lion')\n"
          ]
        }
      ]
    },
    {
      "cell_type": "code",
      "source": [
        "fish=(\"guppy\",\"goldfish\",\"shark\",\"dolphin\")\n",
        "fish1=list(fish)\n",
        "print(fish1)\n",
        "fish1.append(\"pirana\")\n",
        "print(fish1)\n",
        "fish1.remove(\"shark\")\n",
        "print(fish1)\n",
        "fish=tuple(fish1)\n",
        "print(fish)"
      ],
      "metadata": {
        "colab": {
          "base_uri": "https://localhost:8080/"
        },
        "id": "JeQjjVu_CSgO",
        "outputId": "46b1c5ad-bb6c-4ef8-81bc-f7ccf9655977"
      },
      "execution_count": 26,
      "outputs": [
        {
          "output_type": "stream",
          "name": "stdout",
          "text": [
            "['guppy', 'goldfish', 'shark', 'dolphin']\n",
            "['guppy', 'goldfish', 'shark', 'dolphin', 'pirana']\n",
            "['guppy', 'goldfish', 'dolphin', 'pirana']\n",
            "('guppy', 'goldfish', 'dolphin', 'pirana')\n"
          ]
        }
      ]
    },
    {
      "cell_type": "code",
      "source": [
        "food=(\"dosha\",\"appam\",\"chappathi\",\"porotta\")\n",
        "for i in range(len(food)):\n",
        "  print(food[i])\n"
      ],
      "metadata": {
        "colab": {
          "base_uri": "https://localhost:8080/"
        },
        "id": "PZA6JdBuG1hY",
        "outputId": "2ebfe6c1-d4b6-4a92-8b1d-fe95bc21cdbc"
      },
      "execution_count": 29,
      "outputs": [
        {
          "output_type": "stream",
          "name": "stdout",
          "text": [
            "dosha\n",
            "appam\n",
            "chappathi\n",
            "porotta\n"
          ]
        }
      ]
    },
    {
      "cell_type": "code",
      "source": [
        "food=(\"dosha\",\"appam\",\"chappathi\",\"porotta\")\n",
        "i=0\n",
        "l=len(food)\n",
        "while i<l:\n",
        "  print(food[i])\n",
        "  i+=1"
      ],
      "metadata": {
        "colab": {
          "base_uri": "https://localhost:8080/"
        },
        "id": "3MrILNA8HsbV",
        "outputId": "ab906228-6c42-4543-dbcc-4db68335faea"
      },
      "execution_count": 8,
      "outputs": [
        {
          "output_type": "stream",
          "name": "stdout",
          "text": [
            "dosha\n",
            "appam\n",
            "chappathi\n",
            "porotta\n"
          ]
        }
      ]
    },
    {
      "cell_type": "code",
      "source": [
        "s = {\"Hi\",\"Lion\",\"Cat\"}\n",
        "print(s)"
      ],
      "metadata": {
        "colab": {
          "base_uri": "https://localhost:8080/"
        },
        "id": "ZIgapBa4OLaq",
        "outputId": "ee5fa666-bb48-43fe-9eb7-829bdebb0e23"
      },
      "execution_count": 18,
      "outputs": [
        {
          "output_type": "stream",
          "name": "stdout",
          "text": [
            "{'Cat', 'Lion', 'Hi'}\n"
          ]
        }
      ]
    },
    {
      "cell_type": "code",
      "source": [
        "print(s.add(\"Tortoise\"))\n",
        "print(s)"
      ],
      "metadata": {
        "colab": {
          "base_uri": "https://localhost:8080/"
        },
        "id": "sb4wEuy9Pyex",
        "outputId": "8c6c54f2-81ee-4281-a4bd-e53f8f1d3abe"
      },
      "execution_count": 20,
      "outputs": [
        {
          "output_type": "stream",
          "name": "stdout",
          "text": [
            "None\n",
            "{'Cat', 'Tortoise', 'Lion', 'Hi'}\n"
          ]
        }
      ]
    },
    {
      "cell_type": "code",
      "source": [
        "s.add(\"True\")\n",
        "s.add(False)\n",
        "s.add(0)\n",
        "s.add(1)\n",
        "print(s)"
      ],
      "metadata": {
        "colab": {
          "base_uri": "https://localhost:8080/"
        },
        "id": "Zl8pabd0QDUb",
        "outputId": "70c9bfbf-b655-4052-814c-22eaf157cf03"
      },
      "execution_count": 26,
      "outputs": [
        {
          "output_type": "stream",
          "name": "stdout",
          "text": [
            "{False, 1, 'Tortoise', 'Cat', 'Lion', 'Hi', 'True'}\n"
          ]
        }
      ]
    },
    {
      "cell_type": "code",
      "source": [
        "print(len(s))\n",
        "type(s)\n",
        "ts = set((\"false\",True,1,0,\"Helo\"))\n",
        "print(ts)"
      ],
      "metadata": {
        "colab": {
          "base_uri": "https://localhost:8080/"
        },
        "id": "-SHVqbVQQnF4",
        "outputId": "581239c0-7849-4064-f3a1-b05ba8383e45"
      },
      "execution_count": 29,
      "outputs": [
        {
          "output_type": "stream",
          "name": "stdout",
          "text": [
            "7\n",
            "{0, True, 'Helo', 'false'}\n"
          ]
        }
      ]
    },
    {
      "cell_type": "code",
      "source": [
        "print(s.update(ts))\n",
        "print(s)"
      ],
      "metadata": {
        "colab": {
          "base_uri": "https://localhost:8080/"
        },
        "id": "NJwHVqyCRF2x",
        "outputId": "272ec4e7-0faa-45cc-9844-6960e7902723"
      },
      "execution_count": 32,
      "outputs": [
        {
          "output_type": "stream",
          "name": "stdout",
          "text": [
            "None\n",
            "{False, 1, 'Tortoise', 'Cat', 'Helo', 'Lion', 'Hi', 'false', 'True'}\n"
          ]
        }
      ]
    },
    {
      "cell_type": "code",
      "source": [
        "s.remove(\"Hi\")\n",
        "print(s)"
      ],
      "metadata": {
        "colab": {
          "base_uri": "https://localhost:8080/"
        },
        "id": "JGbsHlfPRWng",
        "outputId": "c32b6bc1-b672-44cd-c2b8-d1464719f549"
      },
      "execution_count": 33,
      "outputs": [
        {
          "output_type": "stream",
          "name": "stdout",
          "text": [
            "{False, 1, 'Tortoise', 'Cat', 'Helo', 'Lion', 'false', 'True'}\n"
          ]
        }
      ]
    },
    {
      "cell_type": "code",
      "source": [
        "s.discard(\"Helo\")\n",
        "print(s)"
      ],
      "metadata": {
        "colab": {
          "base_uri": "https://localhost:8080/"
        },
        "id": "z8VVO1hARhZQ",
        "outputId": "04b2c4a7-4222-4cd2-8a78-4fb67177db79"
      },
      "execution_count": 34,
      "outputs": [
        {
          "output_type": "stream",
          "name": "stdout",
          "text": [
            "{False, 1, 'Tortoise', 'Cat', 'Lion', 'false', 'True'}\n"
          ]
        }
      ]
    },
    {
      "cell_type": "code",
      "source": [
        "x = s.pop()\n",
        "print(x)\n",
        "print(s)"
      ],
      "metadata": {
        "colab": {
          "base_uri": "https://localhost:8080/"
        },
        "id": "gBzs5DPjRqpH",
        "outputId": "c8ad9be2-a406-42fe-c912-16eb68b236b8"
      },
      "execution_count": 36,
      "outputs": [
        {
          "output_type": "stream",
          "name": "stdout",
          "text": [
            "1\n",
            "{'Tortoise', 'Cat', 'Lion', 'false', 'True'}\n"
          ]
        }
      ]
    },
    {
      "cell_type": "code",
      "source": [
        "di = {\"Name\" : \"Jessy\",\"Class\" : \"CSE\",\"Year\" : 3}\n",
        "print(di)"
      ],
      "metadata": {
        "colab": {
          "base_uri": "https://localhost:8080/"
        },
        "id": "WYsT0gM3R0VC",
        "outputId": "6e8a6dda-50f5-4668-8de5-2e86b24f3354"
      },
      "execution_count": 1,
      "outputs": [
        {
          "output_type": "stream",
          "name": "stdout",
          "text": [
            "{'Name': 'Jessy', 'Class': 'CSE', 'Year': 3}\n"
          ]
        }
      ]
    },
    {
      "cell_type": "code",
      "source": [
        "print(di.keys())\n",
        "print(di.values())"
      ],
      "metadata": {
        "colab": {
          "base_uri": "https://localhost:8080/"
        },
        "id": "aVZu_yD2t20h",
        "outputId": "78f1a7c3-f263-4a00-f0ca-5351e27a7248"
      },
      "execution_count": 3,
      "outputs": [
        {
          "output_type": "stream",
          "name": "stdout",
          "text": [
            "dict_keys(['Name', 'Class', 'Year'])\n",
            "dict_values(['Jessy', 'CSE', 3])\n"
          ]
        }
      ]
    },
    {
      "cell_type": "code",
      "source": [
        "print(di[\"Name\"])\n",
        "print(di[\"Class\"])\n",
        "print(di[\"Year\"])\n",
        "print(di.get(\"Name\"))"
      ],
      "metadata": {
        "colab": {
          "base_uri": "https://localhost:8080/"
        },
        "id": "eNabnJZbuDJN",
        "outputId": "eb273062-b4d6-41b6-ccdf-12b3d2977220"
      },
      "execution_count": 8,
      "outputs": [
        {
          "output_type": "stream",
          "name": "stdout",
          "text": [
            "Jessy\n",
            "CSE\n",
            "3\n",
            "Jessy\n"
          ]
        }
      ]
    },
    {
      "cell_type": "code",
      "source": [
        "print(len(di))\n",
        "print(type(di))"
      ],
      "metadata": {
        "colab": {
          "base_uri": "https://localhost:8080/"
        },
        "id": "z8jntuNluScP",
        "outputId": "9fdb99a7-ade6-42cf-c306-4e11006d791d"
      },
      "execution_count": 7,
      "outputs": [
        {
          "output_type": "stream",
          "name": "stdout",
          "text": [
            "3\n",
            "<class 'dict'>\n"
          ]
        }
      ]
    },
    {
      "cell_type": "code",
      "source": [
        "di[\"No\"] = 50\n",
        "print(di.keys())"
      ],
      "metadata": {
        "colab": {
          "base_uri": "https://localhost:8080/"
        },
        "id": "pkQOnbIvulrj",
        "outputId": "2335615a-9447-44cd-e379-c29a2967f15b"
      },
      "execution_count": 9,
      "outputs": [
        {
          "output_type": "stream",
          "name": "stdout",
          "text": [
            "dict_keys(['Name', 'Class', 'Year', 'No'])\n"
          ]
        }
      ]
    },
    {
      "cell_type": "code",
      "source": [],
      "metadata": {
        "id": "he1BYKhJuy0C"
      },
      "execution_count": null,
      "outputs": []
    }
  ]
}