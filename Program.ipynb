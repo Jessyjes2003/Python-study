{
  "nbformat": 4,
  "nbformat_minor": 0,
  "metadata": {
    "colab": {
      "provenance": [],
      "authorship_tag": "ABX9TyMQtN2iIlBt1NqJT5x7/WVa",
      "include_colab_link": true
    },
    "kernelspec": {
      "name": "python3",
      "display_name": "Python 3"
    },
    "language_info": {
      "name": "python"
    }
  },
  "cells": [
    {
      "cell_type": "markdown",
      "metadata": {
        "id": "view-in-github",
        "colab_type": "text"
      },
      "source": [
        "<a href=\"https://colab.research.google.com/github/Jessyjes2003/Python-study/blob/main/Program.ipynb\" target=\"_parent\"><img src=\"https://colab.research.google.com/assets/colab-badge.svg\" alt=\"Open In Colab\"/></a>"
      ]
    },
    {
      "cell_type": "code",
      "execution_count": null,
      "metadata": {
        "colab": {
          "base_uri": "https://localhost:8080/"
        },
        "id": "wq7jFxPX3ztU",
        "outputId": "8b66d232-4ac1-42de-9fb5-71bebdec9837"
      },
      "outputs": [
        {
          "output_type": "stream",
          "name": "stdout",
          "text": [
            "Orange Cherry\n"
          ]
        }
      ],
      "source": [
        "x = \"Orange\"\n",
        "y = \"Cherry\"\n",
        "print(x,y)"
      ]
    },
    {
      "cell_type": "code",
      "source": [
        "x = \"Orange\"\n",
        "y = \"Cherry\"\n",
        "print(x+y)"
      ],
      "metadata": {
        "colab": {
          "base_uri": "https://localhost:8080/"
        },
        "id": "sbnfZLxj-ZCr",
        "outputId": "556bbcd0-fceb-489d-8f9c-fa531420be95"
      },
      "execution_count": null,
      "outputs": [
        {
          "output_type": "stream",
          "name": "stdout",
          "text": [
            "OrangeCherry\n"
          ]
        }
      ]
    },
    {
      "cell_type": "code",
      "source": [
        "x,y,z = \"Orange\",\"Cherry\",\"Apple\"\n",
        "print(x)\n",
        "print(y)\n",
        "print(z)"
      ],
      "metadata": {
        "colab": {
          "base_uri": "https://localhost:8080/"
        },
        "id": "4YVPklJE-fZY",
        "outputId": "c095a115-f167-4a4d-832b-5cf93f08e190"
      },
      "execution_count": null,
      "outputs": [
        {
          "output_type": "stream",
          "name": "stdout",
          "text": [
            "Orange\n",
            "Cherry\n",
            "Apple\n"
          ]
        }
      ]
    },
    {
      "cell_type": "code",
      "source": [
        "x=y=z=\"Cherry\"\n",
        "print(x,y,z)"
      ],
      "metadata": {
        "colab": {
          "base_uri": "https://localhost:8080/"
        },
        "id": "4Nh9pAM2-2mk",
        "outputId": "7a45479c-1acc-4064-c85a-f8ce6306fc76"
      },
      "execution_count": null,
      "outputs": [
        {
          "output_type": "stream",
          "name": "stdout",
          "text": [
            "Cherry Cherry Cherry\n"
          ]
        }
      ]
    },
    {
      "cell_type": "code",
      "source": [
        "x=5\n",
        "y=8\n",
        "def addi():\n",
        "  print(x+y)\n",
        "addi()"
      ],
      "metadata": {
        "colab": {
          "base_uri": "https://localhost:8080/"
        },
        "id": "0cn2KE42_Lm4",
        "outputId": "07a8d19f-7557-457b-ad1d-b923bd3db979"
      },
      "execution_count": null,
      "outputs": [
        {
          "output_type": "stream",
          "name": "stdout",
          "text": [
            "13\n"
          ]
        }
      ]
    },
    {
      "cell_type": "code",
      "source": [
        "x=\"apple\"\n",
        "y=\"orange\"\n",
        "def fruits():\n",
        "  print(x,y)\n",
        "fruits()"
      ],
      "metadata": {
        "colab": {
          "base_uri": "https://localhost:8080/"
        },
        "id": "pc66nyHY_dXq",
        "outputId": "56f26fce-2a88-4c4b-e7ed-75ed42ab5651"
      },
      "execution_count": null,
      "outputs": [
        {
          "output_type": "stream",
          "name": "stdout",
          "text": [
            "apple orange\n"
          ]
        }
      ]
    },
    {
      "cell_type": "code",
      "source": [
        "x=2j\n",
        "print(type(x))"
      ],
      "metadata": {
        "colab": {
          "base_uri": "https://localhost:8080/"
        },
        "id": "ihagjvGMAC11",
        "outputId": "9bdf38e2-cbf4-4aaa-d544-fd3ac1e4681d"
      },
      "execution_count": null,
      "outputs": [
        {
          "output_type": "stream",
          "name": "stdout",
          "text": [
            "<class 'complex'>\n"
          ]
        }
      ]
    },
    {
      "cell_type": "code",
      "source": [
        "x=2\n",
        "print(complex(x))"
      ],
      "metadata": {
        "colab": {
          "base_uri": "https://localhost:8080/"
        },
        "id": "Xl_lEW8YESBe",
        "outputId": "c7251eb7-cafc-4c1f-bf9a-678c196a85ff"
      },
      "execution_count": null,
      "outputs": [
        {
          "output_type": "stream",
          "name": "stdout",
          "text": [
            "(2+0j)\n"
          ]
        }
      ]
    },
    {
      "cell_type": "code",
      "source": [
        "import random\n",
        "print(random.randrange(1,10))"
      ],
      "metadata": {
        "colab": {
          "base_uri": "https://localhost:8080/"
        },
        "id": "n98r8ORuEe5G",
        "outputId": "ffb8ad3f-aa9f-4da4-ee58-2fdb3dee5048"
      },
      "execution_count": null,
      "outputs": [
        {
          "output_type": "stream",
          "name": "stdout",
          "text": [
            "5\n"
          ]
        }
      ]
    },
    {
      "cell_type": "code",
      "source": [
        "x=\"Cherry\"\n",
        "print(x[3])"
      ],
      "metadata": {
        "colab": {
          "base_uri": "https://localhost:8080/"
        },
        "id": "71niYHIXEq8Q",
        "outputId": "64a89cea-6657-430b-a264-654d2146f826"
      },
      "execution_count": null,
      "outputs": [
        {
          "output_type": "stream",
          "name": "stdout",
          "text": [
            "r\n"
          ]
        }
      ]
    },
    {
      "cell_type": "code",
      "source": [
        "a=\"Cherry\"\n",
        "print(len(a))\n",
        "for x in a:\n",
        "  print(x)"
      ],
      "metadata": {
        "colab": {
          "base_uri": "https://localhost:8080/"
        },
        "id": "nhy8-iUhE1iK",
        "outputId": "62d6e796-df35-4ad0-995d-c763f99ead50"
      },
      "execution_count": null,
      "outputs": [
        {
          "output_type": "stream",
          "name": "stdout",
          "text": [
            "6\n",
            "C\n",
            "h\n",
            "e\n",
            "r\n",
            "r\n",
            "y\n"
          ]
        }
      ]
    },
    {
      "cell_type": "code",
      "source": [
        "x=[\"Apple\",\"Orange\",\"Cherry\"]\n",
        "x.append(\"Grapes\")\n",
        "print(x)"
      ],
      "metadata": {
        "colab": {
          "base_uri": "https://localhost:8080/"
        },
        "id": "ALQSsj5bFNYu",
        "outputId": "18b37bc0-d1cb-482b-c0ab-2c2f30995728"
      },
      "execution_count": null,
      "outputs": [
        {
          "output_type": "stream",
          "name": "stdout",
          "text": [
            "['Apple', 'Orange', 'Cherry', 'Grapes']\n"
          ]
        }
      ]
    },
    {
      "cell_type": "code",
      "source": [
        "a = \"Python is so good\"\n",
        "print(\"so\" in a)"
      ],
      "metadata": {
        "colab": {
          "base_uri": "https://localhost:8080/"
        },
        "id": "Sjp5Z336FgoM",
        "outputId": "815f003a-8c2f-4b18-a011-1f870973f5dd"
      },
      "execution_count": null,
      "outputs": [
        {
          "output_type": "stream",
          "name": "stdout",
          "text": [
            "True\n"
          ]
        }
      ]
    },
    {
      "cell_type": "code",
      "source": [
        "a=\"Cherry\"\n",
        "print(a.replace(\"C\",\"J\"))"
      ],
      "metadata": {
        "colab": {
          "base_uri": "https://localhost:8080/"
        },
        "id": "d0Gr2ZNcFw6t",
        "outputId": "b6545d28-c889-4790-ea41-cd79318cf197"
      },
      "execution_count": null,
      "outputs": [
        {
          "output_type": "stream",
          "name": "stdout",
          "text": [
            "Jherry\n"
          ]
        }
      ]
    },
    {
      "cell_type": "code",
      "source": [
        "a=\"Hello World\"\n",
        "print(a.split(\" \"))"
      ],
      "metadata": {
        "colab": {
          "base_uri": "https://localhost:8080/"
        },
        "id": "YYsTbcr2GIcR",
        "outputId": "2ae00f86-0340-41f1-a664-32231a895fb5"
      },
      "execution_count": null,
      "outputs": [
        {
          "output_type": "stream",
          "name": "stdout",
          "text": [
            "['Hello', 'World']\n"
          ]
        }
      ]
    },
    {
      "cell_type": "code",
      "source": [
        "age=20\n",
        "a=\"I am {} yrs young\"\n",
        "print(a.format(age))"
      ],
      "metadata": {
        "colab": {
          "base_uri": "https://localhost:8080/"
        },
        "id": "oztHX7o9GaxB",
        "outputId": "b69a0bdb-4b23-4f6c-e919-5c9725429b80"
      },
      "execution_count": null,
      "outputs": [
        {
          "output_type": "stream",
          "name": "stdout",
          "text": [
            "I am 20 yrs young\n"
          ]
        }
      ]
    },
    {
      "cell_type": "code",
      "source": [
        "a=\"Cherry\"\n",
        "print(a.replace(\"Ch\",\"J\"))"
      ],
      "metadata": {
        "colab": {
          "base_uri": "https://localhost:8080/"
        },
        "id": "fZ3mQZuMG6bO",
        "outputId": "4dcb78c0-8862-496e-bb6a-968d59b7abd2"
      },
      "execution_count": null,
      "outputs": [
        {
          "output_type": "stream",
          "name": "stdout",
          "text": [
            "Jerry\n"
          ]
        }
      ]
    },
    {
      "cell_type": "code",
      "source": [
        "num=23\n",
        "txt=\"there are {} students in class\"\n",
        "print(txt.format(num))"
      ],
      "metadata": {
        "colab": {
          "base_uri": "https://localhost:8080/"
        },
        "id": "bdqK6JynHOep",
        "outputId": "6cd8ee89-f965-41dc-ac88-67bc94b46e4a"
      },
      "execution_count": null,
      "outputs": [
        {
          "output_type": "stream",
          "name": "stdout",
          "text": [
            "there are 23 students in class\n"
          ]
        }
      ]
    },
    {
      "cell_type": "code",
      "source": [
        "good=\"bad\"\n",
        "msg=\"aiswarya is a {} girl\"\n",
        "print(msg.format(good))"
      ],
      "metadata": {
        "colab": {
          "base_uri": "https://localhost:8080/"
        },
        "id": "d9NmWhXcJBK1",
        "outputId": "9361079e-861d-4da5-b6d3-8273706fecb2"
      },
      "execution_count": null,
      "outputs": [
        {
          "output_type": "stream",
          "name": "stdout",
          "text": [
            "aiswarya is a bad girl\n"
          ]
        }
      ]
    },
    {
      "cell_type": "code",
      "source": [
        "a=\"jessy     \"\n",
        "print(a.strip())"
      ],
      "metadata": {
        "colab": {
          "base_uri": "https://localhost:8080/"
        },
        "id": "flsWMbiiJYo7",
        "outputId": "3fb55e70-b886-444d-bdef-79e7985cc5c2"
      },
      "execution_count": null,
      "outputs": [
        {
          "output_type": "stream",
          "name": "stdout",
          "text": [
            "jessy\n"
          ]
        }
      ]
    },
    {
      "cell_type": "code",
      "source": [
        "name=\"AYSHA\"\n",
        "print(name.capitalize())"
      ],
      "metadata": {
        "colab": {
          "base_uri": "https://localhost:8080/"
        },
        "id": "V8UF1KLqKA_d",
        "outputId": "6e6d9f6e-aad3-4074-d888-07a0ead147d2"
      },
      "execution_count": null,
      "outputs": [
        {
          "output_type": "stream",
          "name": "stdout",
          "text": [
            "Aysha\n"
          ]
        }
      ]
    },
    {
      "cell_type": "code",
      "source": [
        "name=\"APPLE\"\n",
        "print(name.count(\"A\"))\n",
        "print(len(name))\n",
        "print(name.capitalize())\n",
        "for x in name.capitalize():\n",
        "  print(x)"
      ],
      "metadata": {
        "colab": {
          "base_uri": "https://localhost:8080/"
        },
        "id": "9gacTb6gLfLp",
        "outputId": "c06ca556-13ce-4c95-a1e7-188e86f33d96"
      },
      "execution_count": null,
      "outputs": [
        {
          "output_type": "stream",
          "name": "stdout",
          "text": [
            "1\n",
            "5\n",
            "Apple\n",
            "A\n",
            "p\n",
            "p\n",
            "l\n",
            "e\n"
          ]
        }
      ]
    },
    {
      "cell_type": "code",
      "source": [
        "a =\"Apple,Orange,\\Cherry\"\n",
        "print(a)"
      ],
      "metadata": {
        "colab": {
          "base_uri": "https://localhost:8080/"
        },
        "id": "XQdTrSQTN00_",
        "outputId": "1e16975d-0bb8-4128-847e-43bf2e14962d"
      },
      "execution_count": null,
      "outputs": [
        {
          "output_type": "stream",
          "name": "stdout",
          "text": [
            "Apple,Orange,\\Cherry\n"
          ]
        }
      ]
    },
    {
      "cell_type": "code",
      "source": [
        "x = 10\n",
        "y = 2\n",
        "print(x/y)"
      ],
      "metadata": {
        "id": "5tMIrDcWPNW0",
        "colab": {
          "base_uri": "https://localhost:8080/"
        },
        "outputId": "0f789784-09f1-47e1-92ca-21b4708f62d7"
      },
      "execution_count": null,
      "outputs": [
        {
          "output_type": "stream",
          "name": "stdout",
          "text": [
            "5.0\n"
          ]
        }
      ]
    },
    {
      "cell_type": "code",
      "source": [
        "x = \"Hi there hello\"\n",
        "y = \"Hi\"\n",
        "print(y in x)"
      ],
      "metadata": {
        "colab": {
          "base_uri": "https://localhost:8080/"
        },
        "id": "scqtimkPnDW2",
        "outputId": "ebcb873c-bcda-41ce-a502-64bbd228ef7d"
      },
      "execution_count": null,
      "outputs": [
        {
          "output_type": "stream",
          "name": "stdout",
          "text": [
            "True\n"
          ]
        }
      ]
    },
    {
      "cell_type": "code",
      "source": [
        "x = \"Hi there hello\"\n",
        "y = \"Hi\"\n",
        "print(y is x)"
      ],
      "metadata": {
        "colab": {
          "base_uri": "https://localhost:8080/"
        },
        "id": "2lMnqi13n7bm",
        "outputId": "1da954d9-d3da-47ef-f7f7-7ef12592283e"
      },
      "execution_count": null,
      "outputs": [
        {
          "output_type": "stream",
          "name": "stdout",
          "text": [
            "False\n"
          ]
        }
      ]
    },
    {
      "cell_type": "code",
      "source": [
        "li = [\"Monday\",\"Tuesday\",\"Wednesday\",\"Friday\"]\n",
        "li.insert(3,\"Thursday\")\n",
        "print(li)"
      ],
      "metadata": {
        "colab": {
          "base_uri": "https://localhost:8080/"
        },
        "id": "fHuDGGFloCwr",
        "outputId": "e71b2525-1284-44ca-8285-0085235d493e"
      },
      "execution_count": null,
      "outputs": [
        {
          "output_type": "stream",
          "name": "stdout",
          "text": [
            "['Monday', 'Tuesday', 'Wednesday', 'Thursday', 'Friday']\n"
          ]
        }
      ]
    },
    {
      "cell_type": "code",
      "source": [
        "li = [\"Monday\",\"Tuesday\",\"Wednesday\"]\n",
        "li2 = [\"Thursday\",\"Friday\"]\n",
        "li.extend(li2)\n",
        "print(li)"
      ],
      "metadata": {
        "colab": {
          "base_uri": "https://localhost:8080/"
        },
        "id": "g4a_bE8Bq7qg",
        "outputId": "a9d1a7ed-6cb3-4ed3-8c62-2cd148f3d792"
      },
      "execution_count": null,
      "outputs": [
        {
          "output_type": "stream",
          "name": "stdout",
          "text": [
            "['Monday', 'Tuesday', 'Wednesday', 'Thursday', 'Friday']\n"
          ]
        }
      ]
    },
    {
      "cell_type": "code",
      "source": [
        "li = [\"Monday\",\"Tuesday\",\"Wednesday\"]\n",
        "li2 = [\"Thursday\",\"Friday\"]\n",
        "li.extend(li2)\n",
        "li.clear()\n",
        "print(li)"
      ],
      "metadata": {
        "colab": {
          "base_uri": "https://localhost:8080/"
        },
        "id": "joPHpSY8rZd7",
        "outputId": "0e7150c7-6e22-4eb8-af84-d993ba96754c"
      },
      "execution_count": null,
      "outputs": [
        {
          "output_type": "stream",
          "name": "stdout",
          "text": [
            "[]\n"
          ]
        }
      ]
    },
    {
      "cell_type": "code",
      "source": [
        "#by aysha\n",
        "anime=[\"naruto\",\"sasuke\",\"kakashi\"]\n",
        "print(anime)\n",
        "anime.append(\"jiraya\")\n",
        "print(anime)\n",
        "anime.pop()\n",
        "print(anime)\n",
        "anime.pop(1)\n",
        "print(anime)\n",
        "anime.remove(\"naruto\")\n",
        "print(anime)\n",
        "anime.clear()\n",
        "print(anime)"
      ],
      "metadata": {
        "colab": {
          "base_uri": "https://localhost:8080/"
        },
        "id": "BGfhEwh7u2pt",
        "outputId": "0aee8d30-e729-4e4c-8b64-4b4c097ec113"
      },
      "execution_count": null,
      "outputs": [
        {
          "output_type": "stream",
          "name": "stdout",
          "text": [
            "['naruto', 'sasuke', 'kakashi']\n",
            "['naruto', 'sasuke', 'kakashi', 'jiraya']\n",
            "['naruto', 'sasuke', 'kakashi']\n",
            "['naruto', 'kakashi']\n",
            "['kakashi']\n",
            "[]\n"
          ]
        }
      ]
    },
    {
      "cell_type": "code",
      "source": [
        "bts = [\"Suga\",\"Jin\",\"Jungkook\",\"Kim\",\"Jimin\"]\n",
        "bts.sort()\n",
        "print(bts)"
      ],
      "metadata": {
        "colab": {
          "base_uri": "https://localhost:8080/"
        },
        "id": "enkZtsETwMoE",
        "outputId": "baf7421c-4051-4c1c-f264-dbea80a29c97"
      },
      "execution_count": null,
      "outputs": [
        {
          "output_type": "stream",
          "name": "stdout",
          "text": [
            "['Jimin', 'Jin', 'Jungkook', 'Kim', 'Suga']\n"
          ]
        }
      ]
    },
    {
      "cell_type": "code",
      "source": [
        "bts.sort(reverse = True)\n",
        "print(bts)"
      ],
      "metadata": {
        "colab": {
          "base_uri": "https://localhost:8080/"
        },
        "id": "N5df0vOC1MeM",
        "outputId": "737845c8-1aa6-4968-9025-565d7e4c0ad1"
      },
      "execution_count": null,
      "outputs": [
        {
          "output_type": "stream",
          "name": "stdout",
          "text": [
            "['Suga', 'Kim', 'Jungkook', 'Jin', 'Jimin']\n"
          ]
        }
      ]
    },
    {
      "cell_type": "code",
      "source": [
        "num = [26,7,50]\n",
        "num.sort()\n",
        "print(num)"
      ],
      "metadata": {
        "colab": {
          "base_uri": "https://localhost:8080/"
        },
        "id": "nMOavSZ31Ypz",
        "outputId": "40805b7a-cdea-4fb5-ebd8-7360f097f7d7"
      },
      "execution_count": null,
      "outputs": [
        {
          "output_type": "stream",
          "name": "stdout",
          "text": [
            "[7, 26, 50]\n"
          ]
        }
      ]
    },
    {
      "cell_type": "code",
      "source": [
        "num.reverse()\n",
        "print(num)"
      ],
      "metadata": {
        "colab": {
          "base_uri": "https://localhost:8080/"
        },
        "id": "3ZWh03Ha1l1n",
        "outputId": "03aecbcc-d3da-4520-dffc-464ec7c09690"
      },
      "execution_count": null,
      "outputs": [
        {
          "output_type": "stream",
          "name": "stdout",
          "text": [
            "[50, 26, 7]\n"
          ]
        }
      ]
    },
    {
      "cell_type": "code",
      "source": [
        "mybts = bts.copy()\n",
        "print(mybts)"
      ],
      "metadata": {
        "colab": {
          "base_uri": "https://localhost:8080/"
        },
        "id": "goavm2tX12qH",
        "outputId": "3bd75fe9-b803-4f60-8386-121015064047"
      },
      "execution_count": null,
      "outputs": [
        {
          "output_type": "stream",
          "name": "stdout",
          "text": [
            "['Suga', 'Kim', 'Jungkook', 'Jin', 'Jimin']\n"
          ]
        }
      ]
    },
    {
      "cell_type": "code",
      "source": [
        "mybtss=list(bts)\n",
        "print(mybtss)"
      ],
      "metadata": {
        "colab": {
          "base_uri": "https://localhost:8080/"
        },
        "id": "bUwnGuBJ2Ox7",
        "outputId": "c7509a5d-89a6-4111-9a13-c5a8a8f06d34"
      },
      "execution_count": null,
      "outputs": [
        {
          "output_type": "stream",
          "name": "stdout",
          "text": [
            "['Suga', 'Kim', 'Jungkook', 'Jin', 'Jimin']\n"
          ]
        }
      ]
    }
  ]
}